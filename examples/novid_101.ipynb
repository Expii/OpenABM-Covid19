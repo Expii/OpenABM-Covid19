{
 "cells": [
  {
   "cell_type": "code",
   "execution_count": 28,
   "metadata": {},
   "outputs": [],
   "source": [
    "import example_utils as utils\n",
    "import pandas as pd\n",
    "caution_multipliers = [\n",
    "    [0.125, 0.125, 0.25, 0.5],\n",
    "    [0.125, 0.125, 1.0, 1.0],\n",
    "    [1.0, 1.0, 1.0, 1.0],\n",
    "    [0.0, 0.0, 1.0, 1.0],\n",
    "    [1.0, 1.0, 0.25, 0.5],\n",
    "]\n",
    "N = len(caution_multipliers)\n",
    "\n",
    "param_list = []\n",
    "\n",
    "for i in range(N):\n",
    "    params = utils.get_baseline_parameters()\n",
    "    params.set_param( \"n_total\", 10000 )\n",
    "\n",
    "    params.set_param( \"test_on_symptoms\", 1 )\n",
    "    params.set_param( \"testing_symptoms_time_on\", 1 )\n",
    "    params.set_param( \"trace_on_positive\", 1 )\n",
    "    params.set_param( \"app_turn_on_time\", 1 )\n",
    "    params.set_param( \"intervention_start_time\", 1 )\n",
    "    params.set_param( \"tracing_network_depth\", 1 )\n",
    "    params.set_param( \"quarantine_on_traced\", 1 )\n",
    "\n",
    "    params.set_param( \"self_quarantine_fraction\", 0 )\n",
    "    params.set_param( \"quarantine_household_on_positive\", 0 )\n",
    "\n",
    "    params.set_param( \"quarantine_dropout_self\", 0 )\n",
    "    params.set_param( \"quarantine_dropout_traced_symptoms\", 0 )\n",
    "    params.set_param( \"quarantine_dropout_traced_positive\", 0 )\n",
    "    params.set_param( \"quarantine_dropout_positive\", 0 )\n",
    "    params.set_param( \"quarantine_compliance_traced_symptoms\", 0 ) # no effect??\n",
    "    params.set_param( \"quarantine_compliance_traced_positive\", 0 ) # same\n",
    "\n",
    "    params.set_param( \"test_release_on_negative\", 0 )\n",
    "    params.set_param( \"soft_quarantine_on\", 1 )\n",
    "    params.set_param( \"novid_quarantine_length\", 7 )\n",
    "\n",
    "    params.set_param( \"novid_phone_fraction\", 0.5 )\n",
    "    params.set_param( \"app_phone_fraction\", 0.5 )\n",
    "    \n",
    "    params.set_param( \"novid_soft_multiplier_1\", caution_multipliers[i][0] )\n",
    "    params.set_param( \"novid_soft_multiplier_2\", caution_multipliers[i][1] )\n",
    "    params.set_param( \"novid_soft_multiplier_3\", caution_multipliers[i][2] )\n",
    "    params.set_param( \"novid_soft_multiplier_4\", caution_multipliers[i][3] )\n",
    "    \n",
    "    #params.set_param( \"mean_random_interactions_child\", 0 )\n",
    "    #params.set_param( \"mean_random_interactions_adult\", 0 )\n",
    "    #params.set_param( \"mean_random_interactions_elderly\", 0 )\n",
    "    #params.set_param( \"mean_work_interactions_child\", 12 )\n",
    "    #params.set_param( \"mean_work_interactions_adult\", 11 )\n",
    "    #params.set_param( \"mean_work_interactions_elderly\", 6 )\n",
    "    \n",
    "    param_list.append(params)"
   ]
  },
  {
   "cell_type": "code",
   "execution_count": 29,
   "metadata": {},
   "outputs": [],
   "source": [
    "suffixes = [\n",
    "    \"_novid\",\n",
    "    \"_contact_tracing\",\n",
    "    \"_no_intervention\",\n",
    "    \"_contact_tracing_strict\",\n",
    "    \"_novid_2_3\",\n",
    "]\n",
    "suffixes2 = [\n",
    "    \"_novid\",\n",
    "    \"_contact_tracing\",\n",
    "    \"_no_intervention\",\n",
    "]\n",
    "def suffix_list(s):\n",
    "    return [s+suf for suf in suffixes]\n",
    "def suffix_list2(s):\n",
    "    return [s+suf for suf in suffixes2]"
   ]
  },
  {
   "cell_type": "code",
   "execution_count": 30,
   "metadata": {},
   "outputs": [
    {
     "name": "stdout",
     "output_type": "stream",
     "text": [
      "Starting simulation 0\n",
      "Starting simulation 1\n",
      "Starting simulation 2\n",
      "Starting simulation 3\n",
      "Starting simulation 4\n"
     ]
    }
   ],
   "source": [
    "from functools import reduce\n",
    "result_list = [0]*N\n",
    "\n",
    "for i in range(N):\n",
    "    print(f\"Starting simulation {i}\")\n",
    "    sim = utils.get_simulation(param_list[i])\n",
    "    sim.steps(100)\n",
    "    result_list[i] = pd.DataFrame(sim.results).add_suffix(suffixes[i])\n",
    "timeseries = reduce(lambda a,b: pd.merge(a,b, how=\"outer\", left_index=True, right_index=True), result_list)"
   ]
  },
  {
   "cell_type": "code",
   "execution_count": 32,
   "metadata": {},
   "outputs": [
    {
     "data": {
      "text/plain": [
       "<matplotlib.axes._subplots.AxesSubplot at 0x7fb48c1f1eb0>"
      ]
     },
     "execution_count": 32,
     "metadata": {},
     "output_type": "execute_result"
    },
    {
     "data": {
      "image/png": "[encoded data removed]",
      "text/plain": [
       "<Figure size 432x288 with 1 Axes>"
      ]
     },
     "metadata": {
      "needs_background": "light"
     },
     "output_type": "display_data"
    }
   ],
   "source": [
    "timeseries.plot( x = \"time_novid\", y = suffix_list2(\"total_infected\"))\n",
    "#timeseries.plot( x = \"time_novid\", y = suffix_list2(\"n_cases\"))"
   ]
  },
  {
   "cell_type": "code",
   "execution_count": null,
   "metadata": {},
   "outputs": [],
   "source": []
  }
 ],
 "metadata": {
  "kernelspec": {
   "display_name": "Python 3",
   "language": "python",
   "name": "python3"
  },
  "language_info": {
   "codemirror_mode": {
    "name": "ipython",
    "version": 3
   },
   "file_extension": ".py",
   "mimetype": "text/x-python",
   "name": "python",
   "nbconvert_exporter": "python",
   "pygments_lexer": "ipython3",
   "version": "3.9.5"
  }
 },
 "nbformat": 4,
 "nbformat_minor": 4
}
